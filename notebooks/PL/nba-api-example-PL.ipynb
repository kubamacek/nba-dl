{
 "cells": [
  {
   "cell_type": "code",
   "execution_count": 1,
   "metadata": {},
   "outputs": [],
   "source": [
    "# import endpointu leaguegamefinder z pakietu nba_api\n",
    "from nba_api.stats.endpoints import leaguegamefinder"
   ]
  },
  {
   "cell_type": "code",
   "execution_count": 13,
   "metadata": {},
   "outputs": [],
   "source": [
    "# stworzenie obiektu LeagueGameFinder z zadanymi atrybutami\n",
    "game_finder = leaguegamefinder.LeagueGameFinder(season_nullable='2019-20', league_id_nullable='00')"
   ]
  },
  {
   "cell_type": "code",
   "execution_count": 14,
   "metadata": {},
   "outputs": [],
   "source": [
    "# wykorzystanie metody get_data_frames i zapisanie meczów w formacie pandas.core.frame.DataFrame do zmiennej 'games'\n",
    "games = game_finder.get_data_frames()[0]"
   ]
  },
  {
   "cell_type": "code",
   "execution_count": 15,
   "metadata": {},
   "outputs": [
    {
     "data": {
      "text/plain": [
       "Index(['SEASON_ID', 'TEAM_ID', 'TEAM_ABBREVIATION', 'TEAM_NAME', 'GAME_ID',\n",
       "       'GAME_DATE', 'MATCHUP', 'WL', 'MIN', 'PTS', 'FGM', 'FGA', 'FG_PCT',\n",
       "       'FG3M', 'FG3A', 'FG3_PCT', 'FTM', 'FTA', 'FT_PCT', 'OREB', 'DREB',\n",
       "       'REB', 'AST', 'STL', 'BLK', 'TOV', 'PF', 'PLUS_MINUS'],\n",
       "      dtype='object')"
      ]
     },
     "execution_count": 15,
     "metadata": {},
     "output_type": "execute_result"
    }
   ],
   "source": [
    "# wyświetlenie dostępnych statystyk zespołowych dla każdego meczu\n",
    "games.columns"
   ]
  },
  {
   "cell_type": "code",
   "execution_count": 16,
   "metadata": {},
   "outputs": [
    {
     "data": {
      "text/html": [
       "<div>\n",
       "<style scoped>\n",
       "    .dataframe tbody tr th:only-of-type {\n",
       "        vertical-align: middle;\n",
       "    }\n",
       "\n",
       "    .dataframe tbody tr th {\n",
       "        vertical-align: top;\n",
       "    }\n",
       "\n",
       "    .dataframe thead th {\n",
       "        text-align: right;\n",
       "    }\n",
       "</style>\n",
       "<table border=\"1\" class=\"dataframe\">\n",
       "  <thead>\n",
       "    <tr style=\"text-align: right;\">\n",
       "      <th></th>\n",
       "      <th>SEASON_ID</th>\n",
       "      <th>TEAM_ID</th>\n",
       "      <th>TEAM_ABBREVIATION</th>\n",
       "      <th>TEAM_NAME</th>\n",
       "      <th>GAME_ID</th>\n",
       "      <th>GAME_DATE</th>\n",
       "      <th>MATCHUP</th>\n",
       "      <th>WL</th>\n",
       "      <th>MIN</th>\n",
       "      <th>PTS</th>\n",
       "      <th>...</th>\n",
       "      <th>FT_PCT</th>\n",
       "      <th>OREB</th>\n",
       "      <th>DREB</th>\n",
       "      <th>REB</th>\n",
       "      <th>AST</th>\n",
       "      <th>STL</th>\n",
       "      <th>BLK</th>\n",
       "      <th>TOV</th>\n",
       "      <th>PF</th>\n",
       "      <th>PLUS_MINUS</th>\n",
       "    </tr>\n",
       "  </thead>\n",
       "  <tbody>\n",
       "    <tr>\n",
       "      <td>0</td>\n",
       "      <td>22019</td>\n",
       "      <td>1610612766</td>\n",
       "      <td>CHA</td>\n",
       "      <td>Charlotte Hornets</td>\n",
       "      <td>0021900167</td>\n",
       "      <td>2019-11-15</td>\n",
       "      <td>CHA vs. DET</td>\n",
       "      <td>W</td>\n",
       "      <td>240</td>\n",
       "      <td>109</td>\n",
       "      <td>...</td>\n",
       "      <td>0.625</td>\n",
       "      <td>14</td>\n",
       "      <td>27</td>\n",
       "      <td>41</td>\n",
       "      <td>22</td>\n",
       "      <td>10</td>\n",
       "      <td>3</td>\n",
       "      <td>10</td>\n",
       "      <td>17</td>\n",
       "      <td>3.0</td>\n",
       "    </tr>\n",
       "    <tr>\n",
       "      <td>1</td>\n",
       "      <td>22019</td>\n",
       "      <td>1610612759</td>\n",
       "      <td>SAS</td>\n",
       "      <td>San Antonio Spurs</td>\n",
       "      <td>0021900168</td>\n",
       "      <td>2019-11-15</td>\n",
       "      <td>SAS @ ORL</td>\n",
       "      <td>L</td>\n",
       "      <td>240</td>\n",
       "      <td>109</td>\n",
       "      <td>...</td>\n",
       "      <td>0.600</td>\n",
       "      <td>8</td>\n",
       "      <td>33</td>\n",
       "      <td>41</td>\n",
       "      <td>23</td>\n",
       "      <td>8</td>\n",
       "      <td>8</td>\n",
       "      <td>11</td>\n",
       "      <td>25</td>\n",
       "      <td>-2.0</td>\n",
       "    </tr>\n",
       "    <tr>\n",
       "      <td>2</td>\n",
       "      <td>22019</td>\n",
       "      <td>1610612762</td>\n",
       "      <td>UTA</td>\n",
       "      <td>Utah Jazz</td>\n",
       "      <td>0021900170</td>\n",
       "      <td>2019-11-15</td>\n",
       "      <td>UTA @ MEM</td>\n",
       "      <td>L</td>\n",
       "      <td>241</td>\n",
       "      <td>106</td>\n",
       "      <td>...</td>\n",
       "      <td>0.844</td>\n",
       "      <td>9</td>\n",
       "      <td>36</td>\n",
       "      <td>45</td>\n",
       "      <td>17</td>\n",
       "      <td>5</td>\n",
       "      <td>6</td>\n",
       "      <td>14</td>\n",
       "      <td>16</td>\n",
       "      <td>-1.0</td>\n",
       "    </tr>\n",
       "    <tr>\n",
       "      <td>3</td>\n",
       "      <td>22019</td>\n",
       "      <td>1610612747</td>\n",
       "      <td>LAL</td>\n",
       "      <td>Los Angeles Lakers</td>\n",
       "      <td>0021900174</td>\n",
       "      <td>2019-11-15</td>\n",
       "      <td>LAL vs. SAC</td>\n",
       "      <td>W</td>\n",
       "      <td>240</td>\n",
       "      <td>99</td>\n",
       "      <td>...</td>\n",
       "      <td>0.909</td>\n",
       "      <td>10</td>\n",
       "      <td>31</td>\n",
       "      <td>41</td>\n",
       "      <td>22</td>\n",
       "      <td>11</td>\n",
       "      <td>6</td>\n",
       "      <td>13</td>\n",
       "      <td>18</td>\n",
       "      <td>2.0</td>\n",
       "    </tr>\n",
       "    <tr>\n",
       "      <td>4</td>\n",
       "      <td>22019</td>\n",
       "      <td>1610612764</td>\n",
       "      <td>WAS</td>\n",
       "      <td>Washington Wizards</td>\n",
       "      <td>0021900171</td>\n",
       "      <td>2019-11-15</td>\n",
       "      <td>WAS @ MIN</td>\n",
       "      <td>W</td>\n",
       "      <td>241</td>\n",
       "      <td>137</td>\n",
       "      <td>...</td>\n",
       "      <td>0.760</td>\n",
       "      <td>13</td>\n",
       "      <td>38</td>\n",
       "      <td>51</td>\n",
       "      <td>38</td>\n",
       "      <td>10</td>\n",
       "      <td>5</td>\n",
       "      <td>13</td>\n",
       "      <td>22</td>\n",
       "      <td>21.0</td>\n",
       "    </tr>\n",
       "  </tbody>\n",
       "</table>\n",
       "<p>5 rows × 28 columns</p>\n",
       "</div>"
      ],
      "text/plain": [
       "  SEASON_ID     TEAM_ID TEAM_ABBREVIATION           TEAM_NAME     GAME_ID  \\\n",
       "0     22019  1610612766               CHA   Charlotte Hornets  0021900167   \n",
       "1     22019  1610612759               SAS   San Antonio Spurs  0021900168   \n",
       "2     22019  1610612762               UTA           Utah Jazz  0021900170   \n",
       "3     22019  1610612747               LAL  Los Angeles Lakers  0021900174   \n",
       "4     22019  1610612764               WAS  Washington Wizards  0021900171   \n",
       "\n",
       "    GAME_DATE      MATCHUP WL  MIN  PTS  ...  FT_PCT  OREB  DREB  REB  AST  \\\n",
       "0  2019-11-15  CHA vs. DET  W  240  109  ...   0.625    14    27   41   22   \n",
       "1  2019-11-15    SAS @ ORL  L  240  109  ...   0.600     8    33   41   23   \n",
       "2  2019-11-15    UTA @ MEM  L  241  106  ...   0.844     9    36   45   17   \n",
       "3  2019-11-15  LAL vs. SAC  W  240   99  ...   0.909    10    31   41   22   \n",
       "4  2019-11-15    WAS @ MIN  W  241  137  ...   0.760    13    38   51   38   \n",
       "\n",
       "   STL  BLK  TOV  PF  PLUS_MINUS  \n",
       "0   10    3   10  17         3.0  \n",
       "1    8    8   11  25        -2.0  \n",
       "2    5    6   14  16        -1.0  \n",
       "3   11    6   13  18         2.0  \n",
       "4   10    5   13  22        21.0  \n",
       "\n",
       "[5 rows x 28 columns]"
      ]
     },
     "execution_count": 16,
     "metadata": {},
     "output_type": "execute_result"
    }
   ],
   "source": [
    "# wyświetlenie pierwszych pięciu wierszy \n",
    "games.head()"
   ]
  },
  {
   "cell_type": "code",
   "execution_count": 18,
   "metadata": {},
   "outputs": [
    {
     "data": {
      "text/plain": [
       "pandas.core.frame.DataFrame"
      ]
     },
     "execution_count": 18,
     "metadata": {},
     "output_type": "execute_result"
    }
   ],
   "source": [
    "type(games)"
   ]
  }
 ],
 "metadata": {
  "kernelspec": {
   "display_name": "Python 3",
   "language": "python",
   "name": "python3"
  },
  "language_info": {
   "codemirror_mode": {
    "name": "ipython",
    "version": 3
   },
   "file_extension": ".py",
   "mimetype": "text/x-python",
   "name": "python",
   "nbconvert_exporter": "python",
   "pygments_lexer": "ipython3",
   "version": "3.6.7"
  }
 },
 "nbformat": 4,
 "nbformat_minor": 2
}
