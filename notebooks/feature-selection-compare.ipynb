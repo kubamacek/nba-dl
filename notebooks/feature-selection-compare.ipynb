{
 "cells": [
  {
   "cell_type": "code",
   "execution_count": 1,
   "metadata": {},
   "outputs": [
    {
     "name": "stderr",
     "output_type": "stream",
     "text": [
      "Using TensorFlow backend.\n"
     ]
    }
   ],
   "source": [
    "import warnings\n",
    "warnings.simplefilter(action='ignore', category=FutureWarning)\n",
    "import tensorflow as tf\n",
    "tf.logging.set_verbosity(tf.logging.ERROR)\n",
    "import pandas as pd\n",
    "import numpy as np\n",
    "import matplotlib.pyplot as plt\n",
    "from keras.models import Sequential\n",
    "from keras.layers import Dense\n",
    "from sklearn.preprocessing import LabelEncoder\n",
    "from sklearn.preprocessing import StandardScaler\n",
    "from keras.utils import np_utils"
   ]
  },
  {
   "cell_type": "code",
   "execution_count": 2,
   "metadata": {},
   "outputs": [
    {
     "data": {
      "text/plain": [
       "Index(['SEASON_ID', 'HOME_TEAM_NAME', 'AWAY_TEAM_NAME', 'GAME_ID', 'GAME_DATE',\n",
       "       'HWIN', 'HPLUSMINUS', 'HFGM', 'HFGA', 'HFG_PCT', 'HFG3M', 'HFG3A',\n",
       "       'HFG3_PCT', 'HFTM', 'HFTA', 'HFT_PCT', 'HOREB', 'HDREB', 'HREB', 'HAST',\n",
       "       'HSTL', 'HBLK', 'HTOV', 'HPF', 'AFGM', 'AFGA', 'AFG_PCT', 'AFG3M',\n",
       "       'AFG3A', 'AFG3_PCT', 'AFTM', 'AFTA', 'AFT_PCT', 'AOREB', 'ADREB',\n",
       "       'AREB', 'AAST', 'ASTL', 'ABLK', 'ATOV', 'APF'],\n",
       "      dtype='object')"
      ]
     },
     "execution_count": 2,
     "metadata": {},
     "output_type": "execute_result"
    }
   ],
   "source": [
    "# reading dataset for training (NBA Regular Season matches for last 20 seasons)\n",
    "raw_data_train = pd.read_csv('~/nba-dl/data/matches/RS/book-RS.csv')\n",
    "raw_data_train.columns"
   ]
  },
  {
   "cell_type": "code",
   "execution_count": 3,
   "metadata": {},
   "outputs": [
    {
     "data": {
      "text/plain": [
       "(24154, 41)"
      ]
     },
     "execution_count": 3,
     "metadata": {},
     "output_type": "execute_result"
    }
   ],
   "source": [
    "# train data shape\n",
    "raw_data_train.shape"
   ]
  },
  {
   "cell_type": "code",
   "execution_count": 4,
   "metadata": {},
   "outputs": [
    {
     "data": {
      "text/plain": [
       "Index(['SEASON_ID', 'HOME_TEAM_NAME', 'AWAY_TEAM_NAME', 'GAME_ID', 'GAME_DATE',\n",
       "       'HWIN', 'HPLUSMINUS', 'HFGM', 'HFGA', 'HFG_PCT', 'HFG3M', 'HFG3A',\n",
       "       'HFG3_PCT', 'HFTM', 'HFTA', 'HFT_PCT', 'HOREB', 'HDREB', 'HREB', 'HAST',\n",
       "       'HSTL', 'HBLK', 'HTOV', 'HPF', 'AFGM', 'AFGA', 'AFG_PCT', 'AFG3M',\n",
       "       'AFG3A', 'AFG3_PCT', 'AFTM', 'AFTA', 'AFT_PCT', 'AOREB', 'ADREB',\n",
       "       'AREB', 'AAST', 'ASTL', 'ABLK', 'ATOV', 'APF'],\n",
       "      dtype='object')"
      ]
     },
     "execution_count": 4,
     "metadata": {},
     "output_type": "execute_result"
    }
   ],
   "source": [
    "# reading dataset for testing (NBA Playoffs matches for last 20 seasons)\n",
    "raw_data_test = pd.read_csv('~/nba-dl/data/matches/PO/book-PO.csv')\n",
    "raw_data_test.columns"
   ]
  },
  {
   "cell_type": "code",
   "execution_count": 5,
   "metadata": {},
   "outputs": [
    {
     "data": {
      "text/plain": [
       "(1641, 41)"
      ]
     },
     "execution_count": 5,
     "metadata": {},
     "output_type": "execute_result"
    }
   ],
   "source": [
    "# test data shape\n",
    "raw_data_test.shape"
   ]
  },
  {
   "cell_type": "code",
   "execution_count": 6,
   "metadata": {},
   "outputs": [],
   "source": [
    "'''\n",
    "GLOSSARY:\n",
    "\n",
    "HWIN     - home team win, W means win, L means loss, later W is mapped to 1, L to 0 - LABEL\n",
    "HFGM     - home team field goal made\n",
    "HFGA     - home team field goal attempts\n",
    "HFG_PCT  - home team percentage field goal\n",
    "HFG3M    - home team 3PT field goal made\n",
    "HFG3A    - home team 3PT field goal attempts\n",
    "HFG3_PCT - home team percentage 3PT field goal\n",
    "HFTM     - home team free throws made\n",
    "HFTA     - home team free throws attempts\n",
    "HFT_PCT  - home team percentage free throws\n",
    "HOREB    - home team offensive rebounds\n",
    "HDREB    - home team defensive rebounds\n",
    "HAST     - home team assists\n",
    "HSTL     - home team steals\n",
    "HBLK     - home team blocks\n",
    "HTOV     - home team turnovers\n",
    "HPF      - home team personal fouls\n",
    "AFGM     - away team field goal made\n",
    "AFGA     - away team field goal attempts\n",
    "AFG_PCT  - away team percentage field goal\n",
    "AFG3M    - away team 3PT field goal made\n",
    "AFG3A    - away team 3PT field goal attempts\n",
    "AFG3_PCT - away team percentage 3PT field goal\n",
    "AFTM     - away team free throws made\n",
    "AFTA     - away team free throws attempts\n",
    "AFT_PCT  - away team percentage free throws\n",
    "AOREB    - away team offensive rebounds\n",
    "ADREB    - away team defensive rebounds\n",
    "AAST     - away team assists\n",
    "ASTL     - away team steals\n",
    "ABLK     - away team blocks\n",
    "ATOV     - away team turnovers\n",
    "APF      - away team personal fouls\n",
    "'''\n",
    "\n",
    "# selecting numerical features\n",
    "\n",
    "columns = ['HWIN',\n",
    "           'HFGM', 'HFGA', 'HFG_PCT', 'HFG3M', 'HFG3A', 'HFG3_PCT', 'HFTM', 'HFTA', 'HFT_PCT',\n",
    "           'HOREB', 'HDREB', 'HREB', 'HAST', 'HSTL', 'HBLK', 'HTOV', 'HPF',\n",
    "           'AFGM', 'AFGA', 'AFG_PCT', 'AFG3M', 'AFG3A', 'AFG3_PCT', 'AFTM', 'AFTA', 'AFT_PCT',\n",
    "           'AOREB', 'ADREB', 'AREB', 'AAST', 'ASTL', 'ABLK', 'ATOV', 'APF']"
   ]
  },
  {
   "cell_type": "code",
   "execution_count": 7,
   "metadata": {},
   "outputs": [
    {
     "data": {
      "text/html": [
       "<div>\n",
       "<style scoped>\n",
       "    .dataframe tbody tr th:only-of-type {\n",
       "        vertical-align: middle;\n",
       "    }\n",
       "\n",
       "    .dataframe tbody tr th {\n",
       "        vertical-align: top;\n",
       "    }\n",
       "\n",
       "    .dataframe thead th {\n",
       "        text-align: right;\n",
       "    }\n",
       "</style>\n",
       "<table border=\"1\" class=\"dataframe\">\n",
       "  <thead>\n",
       "    <tr style=\"text-align: right;\">\n",
       "      <th></th>\n",
       "      <th>HWIN</th>\n",
       "      <th>HFGM</th>\n",
       "      <th>HFGA</th>\n",
       "      <th>HFG_PCT</th>\n",
       "      <th>HFG3M</th>\n",
       "      <th>HFG3A</th>\n",
       "      <th>HFG3_PCT</th>\n",
       "      <th>HFTM</th>\n",
       "      <th>HFTA</th>\n",
       "      <th>HFT_PCT</th>\n",
       "      <th>...</th>\n",
       "      <th>AFTA</th>\n",
       "      <th>AFT_PCT</th>\n",
       "      <th>AOREB</th>\n",
       "      <th>ADREB</th>\n",
       "      <th>AREB</th>\n",
       "      <th>AAST</th>\n",
       "      <th>ASTL</th>\n",
       "      <th>ABLK</th>\n",
       "      <th>ATOV</th>\n",
       "      <th>APF</th>\n",
       "    </tr>\n",
       "  </thead>\n",
       "  <tbody>\n",
       "    <tr>\n",
       "      <td>0</td>\n",
       "      <td>W</td>\n",
       "      <td>39</td>\n",
       "      <td>79</td>\n",
       "      <td>0.494</td>\n",
       "      <td>4</td>\n",
       "      <td>12</td>\n",
       "      <td>0.333</td>\n",
       "      <td>28</td>\n",
       "      <td>30</td>\n",
       "      <td>0.933</td>\n",
       "      <td>...</td>\n",
       "      <td>21</td>\n",
       "      <td>0.762</td>\n",
       "      <td>14</td>\n",
       "      <td>31</td>\n",
       "      <td>45</td>\n",
       "      <td>26</td>\n",
       "      <td>7</td>\n",
       "      <td>5</td>\n",
       "      <td>15</td>\n",
       "      <td>30</td>\n",
       "    </tr>\n",
       "    <tr>\n",
       "      <td>1</td>\n",
       "      <td>W</td>\n",
       "      <td>30</td>\n",
       "      <td>78</td>\n",
       "      <td>0.385</td>\n",
       "      <td>7</td>\n",
       "      <td>19</td>\n",
       "      <td>0.368</td>\n",
       "      <td>23</td>\n",
       "      <td>32</td>\n",
       "      <td>0.719</td>\n",
       "      <td>...</td>\n",
       "      <td>8</td>\n",
       "      <td>0.750</td>\n",
       "      <td>21</td>\n",
       "      <td>39</td>\n",
       "      <td>60</td>\n",
       "      <td>17</td>\n",
       "      <td>5</td>\n",
       "      <td>3</td>\n",
       "      <td>15</td>\n",
       "      <td>24</td>\n",
       "    </tr>\n",
       "    <tr>\n",
       "      <td>2</td>\n",
       "      <td>L</td>\n",
       "      <td>40</td>\n",
       "      <td>89</td>\n",
       "      <td>0.449</td>\n",
       "      <td>5</td>\n",
       "      <td>11</td>\n",
       "      <td>0.455</td>\n",
       "      <td>23</td>\n",
       "      <td>29</td>\n",
       "      <td>0.793</td>\n",
       "      <td>...</td>\n",
       "      <td>22</td>\n",
       "      <td>0.727</td>\n",
       "      <td>10</td>\n",
       "      <td>37</td>\n",
       "      <td>47</td>\n",
       "      <td>32</td>\n",
       "      <td>10</td>\n",
       "      <td>3</td>\n",
       "      <td>17</td>\n",
       "      <td>30</td>\n",
       "    </tr>\n",
       "    <tr>\n",
       "      <td>3</td>\n",
       "      <td>W</td>\n",
       "      <td>47</td>\n",
       "      <td>79</td>\n",
       "      <td>0.595</td>\n",
       "      <td>4</td>\n",
       "      <td>8</td>\n",
       "      <td>0.500</td>\n",
       "      <td>10</td>\n",
       "      <td>20</td>\n",
       "      <td>0.500</td>\n",
       "      <td>...</td>\n",
       "      <td>28</td>\n",
       "      <td>0.679</td>\n",
       "      <td>10</td>\n",
       "      <td>18</td>\n",
       "      <td>28</td>\n",
       "      <td>20</td>\n",
       "      <td>9</td>\n",
       "      <td>4</td>\n",
       "      <td>16</td>\n",
       "      <td>25</td>\n",
       "    </tr>\n",
       "    <tr>\n",
       "      <td>4</td>\n",
       "      <td>L</td>\n",
       "      <td>38</td>\n",
       "      <td>92</td>\n",
       "      <td>0.413</td>\n",
       "      <td>4</td>\n",
       "      <td>15</td>\n",
       "      <td>0.267</td>\n",
       "      <td>20</td>\n",
       "      <td>25</td>\n",
       "      <td>0.800</td>\n",
       "      <td>...</td>\n",
       "      <td>35</td>\n",
       "      <td>0.771</td>\n",
       "      <td>12</td>\n",
       "      <td>26</td>\n",
       "      <td>38</td>\n",
       "      <td>26</td>\n",
       "      <td>6</td>\n",
       "      <td>3</td>\n",
       "      <td>17</td>\n",
       "      <td>20</td>\n",
       "    </tr>\n",
       "  </tbody>\n",
       "</table>\n",
       "<p>5 rows × 35 columns</p>\n",
       "</div>"
      ],
      "text/plain": [
       "  HWIN  HFGM  HFGA  HFG_PCT  HFG3M  HFG3A  HFG3_PCT  HFTM  HFTA  HFT_PCT  ...  \\\n",
       "0    W    39    79    0.494      4     12     0.333    28    30    0.933  ...   \n",
       "1    W    30    78    0.385      7     19     0.368    23    32    0.719  ...   \n",
       "2    L    40    89    0.449      5     11     0.455    23    29    0.793  ...   \n",
       "3    W    47    79    0.595      4      8     0.500    10    20    0.500  ...   \n",
       "4    L    38    92    0.413      4     15     0.267    20    25    0.800  ...   \n",
       "\n",
       "   AFTA  AFT_PCT  AOREB  ADREB  AREB  AAST  ASTL  ABLK  ATOV  APF  \n",
       "0    21    0.762     14     31    45    26     7     5    15   30  \n",
       "1     8    0.750     21     39    60    17     5     3    15   24  \n",
       "2    22    0.727     10     37    47    32    10     3    17   30  \n",
       "3    28    0.679     10     18    28    20     9     4    16   25  \n",
       "4    35    0.771     12     26    38    26     6     3    17   20  \n",
       "\n",
       "[5 rows x 35 columns]"
      ]
     },
     "execution_count": 7,
     "metadata": {},
     "output_type": "execute_result"
    }
   ],
   "source": [
    "# making new dataset with selected columns\n",
    "\n",
    "data_train = raw_data_train[columns]\n",
    "data_test = raw_data_test[columns]\n",
    "data_train.head()"
   ]
  },
  {
   "cell_type": "code",
   "execution_count": 8,
   "metadata": {},
   "outputs": [
    {
     "name": "stderr",
     "output_type": "stream",
     "text": [
      "/home/jmacek/nba-dl/inz/lib/python3.6/site-packages/ipykernel_launcher.py:3: SettingWithCopyWarning: \n",
      "A value is trying to be set on a copy of a slice from a DataFrame.\n",
      "Try using .loc[row_indexer,col_indexer] = value instead\n",
      "\n",
      "See the caveats in the documentation: http://pandas.pydata.org/pandas-docs/stable/user_guide/indexing.html#returning-a-view-versus-a-copy\n",
      "  This is separate from the ipykernel package so we can avoid doing imports until\n",
      "/home/jmacek/nba-dl/inz/lib/python3.6/site-packages/ipykernel_launcher.py:4: SettingWithCopyWarning: \n",
      "A value is trying to be set on a copy of a slice from a DataFrame.\n",
      "Try using .loc[row_indexer,col_indexer] = value instead\n",
      "\n",
      "See the caveats in the documentation: http://pandas.pydata.org/pandas-docs/stable/user_guide/indexing.html#returning-a-view-versus-a-copy\n",
      "  after removing the cwd from sys.path.\n"
     ]
    },
    {
     "data": {
      "text/html": [
       "<div>\n",
       "<style scoped>\n",
       "    .dataframe tbody tr th:only-of-type {\n",
       "        vertical-align: middle;\n",
       "    }\n",
       "\n",
       "    .dataframe tbody tr th {\n",
       "        vertical-align: top;\n",
       "    }\n",
       "\n",
       "    .dataframe thead th {\n",
       "        text-align: right;\n",
       "    }\n",
       "</style>\n",
       "<table border=\"1\" class=\"dataframe\">\n",
       "  <thead>\n",
       "    <tr style=\"text-align: right;\">\n",
       "      <th></th>\n",
       "      <th>HWIN</th>\n",
       "      <th>HFGM</th>\n",
       "      <th>HFGA</th>\n",
       "      <th>HFG_PCT</th>\n",
       "      <th>HFG3M</th>\n",
       "      <th>HFG3A</th>\n",
       "      <th>HFG3_PCT</th>\n",
       "      <th>HFTM</th>\n",
       "      <th>HFTA</th>\n",
       "      <th>HFT_PCT</th>\n",
       "      <th>...</th>\n",
       "      <th>AFTA</th>\n",
       "      <th>AFT_PCT</th>\n",
       "      <th>AOREB</th>\n",
       "      <th>ADREB</th>\n",
       "      <th>AREB</th>\n",
       "      <th>AAST</th>\n",
       "      <th>ASTL</th>\n",
       "      <th>ABLK</th>\n",
       "      <th>ATOV</th>\n",
       "      <th>APF</th>\n",
       "    </tr>\n",
       "  </thead>\n",
       "  <tbody>\n",
       "    <tr>\n",
       "      <td>0</td>\n",
       "      <td>1</td>\n",
       "      <td>39</td>\n",
       "      <td>79</td>\n",
       "      <td>0.494</td>\n",
       "      <td>4</td>\n",
       "      <td>12</td>\n",
       "      <td>0.333</td>\n",
       "      <td>28</td>\n",
       "      <td>30</td>\n",
       "      <td>0.933</td>\n",
       "      <td>...</td>\n",
       "      <td>21</td>\n",
       "      <td>0.762</td>\n",
       "      <td>14</td>\n",
       "      <td>31</td>\n",
       "      <td>45</td>\n",
       "      <td>26</td>\n",
       "      <td>7</td>\n",
       "      <td>5</td>\n",
       "      <td>15</td>\n",
       "      <td>30</td>\n",
       "    </tr>\n",
       "    <tr>\n",
       "      <td>1</td>\n",
       "      <td>1</td>\n",
       "      <td>30</td>\n",
       "      <td>78</td>\n",
       "      <td>0.385</td>\n",
       "      <td>7</td>\n",
       "      <td>19</td>\n",
       "      <td>0.368</td>\n",
       "      <td>23</td>\n",
       "      <td>32</td>\n",
       "      <td>0.719</td>\n",
       "      <td>...</td>\n",
       "      <td>8</td>\n",
       "      <td>0.750</td>\n",
       "      <td>21</td>\n",
       "      <td>39</td>\n",
       "      <td>60</td>\n",
       "      <td>17</td>\n",
       "      <td>5</td>\n",
       "      <td>3</td>\n",
       "      <td>15</td>\n",
       "      <td>24</td>\n",
       "    </tr>\n",
       "    <tr>\n",
       "      <td>2</td>\n",
       "      <td>0</td>\n",
       "      <td>40</td>\n",
       "      <td>89</td>\n",
       "      <td>0.449</td>\n",
       "      <td>5</td>\n",
       "      <td>11</td>\n",
       "      <td>0.455</td>\n",
       "      <td>23</td>\n",
       "      <td>29</td>\n",
       "      <td>0.793</td>\n",
       "      <td>...</td>\n",
       "      <td>22</td>\n",
       "      <td>0.727</td>\n",
       "      <td>10</td>\n",
       "      <td>37</td>\n",
       "      <td>47</td>\n",
       "      <td>32</td>\n",
       "      <td>10</td>\n",
       "      <td>3</td>\n",
       "      <td>17</td>\n",
       "      <td>30</td>\n",
       "    </tr>\n",
       "    <tr>\n",
       "      <td>3</td>\n",
       "      <td>1</td>\n",
       "      <td>47</td>\n",
       "      <td>79</td>\n",
       "      <td>0.595</td>\n",
       "      <td>4</td>\n",
       "      <td>8</td>\n",
       "      <td>0.500</td>\n",
       "      <td>10</td>\n",
       "      <td>20</td>\n",
       "      <td>0.500</td>\n",
       "      <td>...</td>\n",
       "      <td>28</td>\n",
       "      <td>0.679</td>\n",
       "      <td>10</td>\n",
       "      <td>18</td>\n",
       "      <td>28</td>\n",
       "      <td>20</td>\n",
       "      <td>9</td>\n",
       "      <td>4</td>\n",
       "      <td>16</td>\n",
       "      <td>25</td>\n",
       "    </tr>\n",
       "    <tr>\n",
       "      <td>4</td>\n",
       "      <td>0</td>\n",
       "      <td>38</td>\n",
       "      <td>92</td>\n",
       "      <td>0.413</td>\n",
       "      <td>4</td>\n",
       "      <td>15</td>\n",
       "      <td>0.267</td>\n",
       "      <td>20</td>\n",
       "      <td>25</td>\n",
       "      <td>0.800</td>\n",
       "      <td>...</td>\n",
       "      <td>35</td>\n",
       "      <td>0.771</td>\n",
       "      <td>12</td>\n",
       "      <td>26</td>\n",
       "      <td>38</td>\n",
       "      <td>26</td>\n",
       "      <td>6</td>\n",
       "      <td>3</td>\n",
       "      <td>17</td>\n",
       "      <td>20</td>\n",
       "    </tr>\n",
       "  </tbody>\n",
       "</table>\n",
       "<p>5 rows × 35 columns</p>\n",
       "</div>"
      ],
      "text/plain": [
       "   HWIN  HFGM  HFGA  HFG_PCT  HFG3M  HFG3A  HFG3_PCT  HFTM  HFTA  HFT_PCT  \\\n",
       "0     1    39    79    0.494      4     12     0.333    28    30    0.933   \n",
       "1     1    30    78    0.385      7     19     0.368    23    32    0.719   \n",
       "2     0    40    89    0.449      5     11     0.455    23    29    0.793   \n",
       "3     1    47    79    0.595      4      8     0.500    10    20    0.500   \n",
       "4     0    38    92    0.413      4     15     0.267    20    25    0.800   \n",
       "\n",
       "   ...  AFTA  AFT_PCT  AOREB  ADREB  AREB  AAST  ASTL  ABLK  ATOV  APF  \n",
       "0  ...    21    0.762     14     31    45    26     7     5    15   30  \n",
       "1  ...     8    0.750     21     39    60    17     5     3    15   24  \n",
       "2  ...    22    0.727     10     37    47    32    10     3    17   30  \n",
       "3  ...    28    0.679     10     18    28    20     9     4    16   25  \n",
       "4  ...    35    0.771     12     26    38    26     6     3    17   20  \n",
       "\n",
       "[5 rows x 35 columns]"
      ]
     },
     "execution_count": 8,
     "metadata": {},
     "output_type": "execute_result"
    }
   ],
   "source": [
    "# mapping labels to numeric values\n",
    "\n",
    "data_train['HWIN'] = data_train['HWIN'].map({'W': 1, 'L': 0})\n",
    "data_test['HWIN'] = data_test['HWIN'].map({'W': 1, 'L': 0})\n",
    "data_train.head()"
   ]
  },
  {
   "cell_type": "code",
   "execution_count": 9,
   "metadata": {},
   "outputs": [],
   "source": [
    "# separating data to features(X) and labels(y)\n",
    "\n",
    "X_train = data_train.drop(\"HWIN\", 1)\n",
    "y_train = data_train[\"HWIN\"]\n",
    "X_test = data_test.drop(\"HWIN\", 1)\n",
    "y_test = data_test['HWIN']"
   ]
  },
  {
   "cell_type": "code",
   "execution_count": 10,
   "metadata": {},
   "outputs": [],
   "source": [
    "# compare feature selection methods\n",
    "pearson_correlation_features = ['HFGM', 'HFG_PCT', 'HDREB', 'HAST', 'AFGM', 'AFG_PCT', 'ADREB']\n",
    "univariate_selection_features = ['HAST', 'AAST', 'ADREB', 'HDREB', 'HFGM', 'AFGM', 'AFG3M']\n",
    "rfe_features = ['HFGM', 'HFG3M', 'HFG3_PCT', 'HFTM', 'AFGM', 'AFG3M', 'AFTM']\n",
    "feature_importance_features = ['AFG_PCT', 'HFG_PCT', 'HFGM', 'AFGM', 'ADREB', 'HAST', 'HREB']"
   ]
  },
  {
   "cell_type": "code",
   "execution_count": 11,
   "metadata": {},
   "outputs": [],
   "source": [
    "# create dict with methods\n",
    "methods = {\"Pearson Correlation\": pearson_correlation_features, \n",
    "           \"Univariate Selection\": univariate_selection_features, \n",
    "           \"Recursive Feature Elimination\": rfe_features, \n",
    "           \"Feature Importance\": feature_importance_features}"
   ]
  },
  {
   "cell_type": "code",
   "execution_count": 12,
   "metadata": {},
   "outputs": [
    {
     "name": "stdout",
     "output_type": "stream",
     "text": [
      "Method name: Pearson Correlation\n",
      "Relevant features: ['HFGM', 'HFG_PCT', 'HDREB', 'HAST', 'AFGM', 'AFG_PCT', 'ADREB']\n"
     ]
    },
    {
     "data": {
      "image/png": "[encoded data removed]",
      "text/plain": [
       "<Figure size 432x288 with 2 Axes>"
      ]
     },
     "metadata": {
      "needs_background": "light"
     },
     "output_type": "display_data"
    },
    {
     "name": "stdout",
     "output_type": "stream",
     "text": [
      "Accuracy on train data: 81.62\n",
      "Loss on train data: 0.39\n",
      "Validation on test data: 83.0\n",
      "--------------------------------------------\n",
      "Method name: Univariate Selection\n",
      "Relevant features: ['HAST', 'AAST', 'ADREB', 'HDREB', 'HFGM', 'AFGM', 'AFG3M']\n"
     ]
    },
    {
     "data": {
      "image/png": "[encoded data removed]",
      "text/plain": [
       "<Figure size 432x288 with 2 Axes>"
      ]
     },
     "metadata": {
      "needs_background": "light"
     },
     "output_type": "display_data"
    },
    {
     "name": "stdout",
     "output_type": "stream",
     "text": [
      "Accuracy on train data: 81.56\n",
      "Loss on train data: 0.39\n",
      "Validation on test data: 82.51\n",
      "--------------------------------------------\n",
      "Method name: Recursive Feature Elimination\n",
      "Relevant features: ['HFGM', 'HFG3M', 'HFG3_PCT', 'HFTM', 'AFGM', 'AFG3M', 'AFTM']\n"
     ]
    },
    {
     "data": {
      "image/png": "[encoded data removed]",
      "text/plain": [
       "<Figure size 432x288 with 2 Axes>"
      ]
     },
     "metadata": {
      "needs_background": "light"
     },
     "output_type": "display_data"
    },
    {
     "name": "stdout",
     "output_type": "stream",
     "text": [
      "Accuracy on train data: 100.0\n",
      "Loss on train data: 0.02\n",
      "Validation on test data: 97.93\n",
      "--------------------------------------------\n",
      "Method name: Feature Importance\n",
      "Relevant features: ['AFG_PCT', 'HFG_PCT', 'HFGM', 'AFGM', 'ADREB', 'HAST', 'HREB']\n"
     ]
    },
    {
     "data": {
      "image/png": "[encoded data removed]",
      "text/plain": [
       "<Figure size 432x288 with 2 Axes>"
      ]
     },
     "metadata": {
      "needs_background": "light"
     },
     "output_type": "display_data"
    },
    {
     "name": "stdout",
     "output_type": "stream",
     "text": [
      "Accuracy on train data: 82.08\n",
      "Loss on train data: 0.38\n",
      "Validation on test data: 82.88\n",
      "--------------------------------------------\n"
     ]
    }
   ],
   "source": [
    "# compare \n",
    "for method_name, features in methods.items():\n",
    "    print(\"Method name: {}\".format(method_name))\n",
    "    print(\"Relevant features: {}\".format(features))\n",
    "    # using only relevant features in dataset\n",
    "    X_train_dataset = X_train[features]\n",
    "    X_test_dataset = X_test[features]\n",
    "    # creating neural network model\n",
    "    model = Sequential()\n",
    "    model.add(Dense(len(features), input_dim=len(features), activation='relu'))\n",
    "    model.add(Dense(2, activation='softmax'))\n",
    "    model.compile(loss='categorical_crossentropy', optimizer='adam', metrics=['accuracy'])\n",
    "    # standarizing data\n",
    "    scaler = StandardScaler()\n",
    "    scaled_X_train= scaler.fit_transform(X_train_dataset)\n",
    "    scaled_X_test = scaler.fit_transform(X_test_dataset)\n",
    "    # encode class values as integer\n",
    "    encoder = LabelEncoder()\n",
    "    encoder.fit(y_train)\n",
    "    encoded_Y_train = encoder.transform(y_train)\n",
    "    # converting integers to dummy variables\n",
    "    dummy_y_train = np_utils.to_categorical(encoded_Y_train)\n",
    "    # fitting model with prepared data\n",
    "    res = model.fit(scaled_X_train, dummy_y_train, epochs=10, batch_size=100, verbose=0)\n",
    "    accuracy = res.history['accuracy'][-1]\n",
    "    loss = res.history['loss'][-1]\n",
    "    #plot accuracy\n",
    "    plt.subplot(1,2,1)\n",
    "    plt.plot(res.history['accuracy'])\n",
    "    plt.ylabel('accuracy')\n",
    "    plt.xlabel('epoch')\n",
    "    #plot loss\n",
    "    plt.subplot(1,2,2)\n",
    "    plt.plot(res.history['loss'])\n",
    "    plt.ylabel('loss')\n",
    "    plt.xlabel('epoch')\n",
    "    plt.show()\n",
    "    print(\"Accuracy on train data: {}\".format(round(accuracy*100, 2)))\n",
    "    print(\"Loss on train data: {}\".format(round(loss, 2)))\n",
    "    # preparing test labels\n",
    "    encoder.fit(y_test)\n",
    "    encoded_Y_test = encoder.transform(y_test)\n",
    "    dummy_y_test = np_utils.to_categorical(encoded_Y_test)\n",
    "    # evaluating the model with test data\n",
    "    scores = model.evaluate(scaled_X_test, dummy_y_test, verbose=0)\n",
    "    validation = scores[1]\n",
    "    print(\"Validation on test data: {}\".format(round(validation*100, 2)))\n",
    "    print(\"--------------------------------------------\")"
   ]
  },
  {
   "cell_type": "code",
   "execution_count": 13,
   "metadata": {},
   "outputs": [
    {
     "data": {
      "image/png": "[encoded data removed]",
      "text/plain": [
       "<Figure size 432x288 with 2 Axes>"
      ]
     },
     "metadata": {
      "needs_background": "light"
     },
     "output_type": "display_data"
    },
    {
     "name": "stdout",
     "output_type": "stream",
     "text": [
      "Accuracy on train data: 77.25\n",
      "Loss on train data: 0.47\n",
      "Validation on test data: 77.15\n",
      "--------------------------------------------\n"
     ]
    }
   ],
   "source": [
    "# bonus - PCA\n",
    "from sklearn.decomposition import PCA\n",
    "from sklearn import preprocessing\n",
    "# get root datasets\n",
    "X_train_dataset = X_train\n",
    "X_test_dataset = X_test\n",
    "# normalize data before PCA application\n",
    "X_train = preprocessing.normalize(X_train_dataset)\n",
    "X_test = preprocessing.normalize(X_test_dataset)\n",
    "# standarize data before PCA application\n",
    "#scaler = StandardScaler()\n",
    "#X_train= scaler.fit_transform(X_train_dataset)\n",
    "#X_test = scaler.fit_transform(X_test_dataset)\n",
    "# PCA magic\n",
    "pca = PCA(n_components=7)\n",
    "X_train = pca.fit_transform(X_train)\n",
    "X_test = pca.transform(X_test)\n",
    "# create neural network model\n",
    "model = Sequential()\n",
    "model.add(Dense(7, input_dim=7, activation='relu'))\n",
    "model.add(Dense(2, activation='softmax'))\n",
    "model.compile(loss='categorical_crossentropy', optimizer='adam', metrics=['accuracy'])\n",
    "# encode class values as integer\n",
    "encoder = LabelEncoder()\n",
    "encoder.fit(y_train)\n",
    "encoded_Y_train = encoder.transform(y_train)\n",
    "# converting integers to dummy variables\n",
    "dummy_y_train = np_utils.to_categorical(encoded_Y_train)\n",
    "# fitting model with prepared data\n",
    "res = model.fit(X_train, dummy_y_train, epochs=10, batch_size=100, verbose=0)\n",
    "accuracy = res.history['accuracy'][-1]\n",
    "loss = res.history['loss'][-1]\n",
    "#plot accuracy\n",
    "plt.subplot(1,2,1)\n",
    "plt.plot(res.history['accuracy'])\n",
    "plt.ylabel('accuracy')\n",
    "plt.xlabel('epoch')\n",
    "#plot loss\n",
    "plt.subplot(1,2,2)\n",
    "plt.plot(res.history['loss'])\n",
    "plt.ylabel('loss')\n",
    "plt.xlabel('epoch')\n",
    "plt.show()\n",
    "print(\"Accuracy on train data: {}\".format(round(accuracy*100, 2)))\n",
    "print(\"Loss on train data: {}\".format(round(loss, 2)))\n",
    "# preparing test labels\n",
    "encoder.fit(y_test)\n",
    "encoded_Y_test = encoder.transform(y_test)\n",
    "dummy_y_test = np_utils.to_categorical(encoded_Y_test)\n",
    "# evaluating the model with test data\n",
    "scores = model.evaluate(X_test, dummy_y_test, verbose=0)\n",
    "validation = scores[1]\n",
    "print(\"Validation on test data: {}\".format(round(validation*100, 2)))\n",
    "print(\"--------------------------------------------\")"
   ]
  }
 ],
 "metadata": {
  "kernelspec": {
   "display_name": "Python 3",
   "language": "python",
   "name": "python3"
  },
  "language_info": {
   "codemirror_mode": {
    "name": "ipython",
    "version": 3
   },
   "file_extension": ".py",
   "mimetype": "text/x-python",
   "name": "python",
   "nbconvert_exporter": "python",
   "pygments_lexer": "ipython3",
   "version": "3.6.7"
  }
 },
 "nbformat": 4,
 "nbformat_minor": 2
}
